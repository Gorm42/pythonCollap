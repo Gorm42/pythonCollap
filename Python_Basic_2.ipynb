{
  "nbformat": 4,
  "nbformat_minor": 0,
  "metadata": {
    "colab": {
      "provenance": [],
      "include_colab_link": true
    },
    "kernelspec": {
      "name": "python3",
      "display_name": "Python 3"
    },
    "language_info": {
      "name": "python"
    }
  },
  "cells": [
    {
      "cell_type": "markdown",
      "metadata": {
        "id": "view-in-github",
        "colab_type": "text"
      },
      "source": [
        "<a href=\"https://colab.research.google.com/github/Gorm42/pythonCollap/blob/main/Python_Basic_2.ipynb\" target=\"_parent\"><img src=\"https://colab.research.google.com/assets/colab-badge.svg\" alt=\"Open In Colab\"/></a>"
      ]
    },
    {
      "cell_type": "markdown",
      "source": [
        "# Python Basics No.2"
      ],
      "metadata": {
        "id": "bYTAUEE1rsMo"
      }
    },
    {
      "cell_type": "markdown",
      "source": [
        "This is a crash course in basic Python. The goal is you will be able to utilize 2-dimensional lists, random numbers and understand the code used in the course. Together we are going to do a Python program, with some simple code. In order to keep a good speed no GUI no structure of program. Just coding.\n",
        "\n",
        "Useful links:\n",
        "\n",
        "https://www.w3schools.com/Python/default.asp\n",
        "\n",
        "https://docs.python.org/3/library/random.html\n",
        "\n",
        "https://www.tutorialspoint.com/python_data_structure/python_2darray.htm\n",
        "\n",
        "https://stackoverflow.com/questions/6142689/initialising-an-array-of-fixed-size-in-python\n"
      ],
      "metadata": {
        "id": "Xhoo0AWhrxym"
      }
    },
    {
      "cell_type": "markdown",
      "source": [
        "Assignment 1: Application program two different lists"
      ],
      "metadata": {
        "id": "tmooyfSNY3Bs"
      }
    },
    {
      "cell_type": "markdown",
      "source": [
        "Declare two different lists:\n",
        "\n",
        "```\n",
        "color = [\"red\", \"big\", \"tasty\"]\n",
        "fruits = [\"apple\", \"banana\", \"cherry\"]\n",
        "```\n",
        "\n",
        "Now for each item in color print out each item in fruits with the respective color, so the output looks similar to:\n",
        "\n",
        "```\n",
        "red apple\n",
        "red banana\n",
        "red cherry\n",
        "big apple\n",
        "big banana\n",
        "big cherry\n",
        "tasty apple\n",
        "tasty banana\n",
        "tasty cherry\n",
        "```\n",
        "Tip: Nested loops!"
      ],
      "metadata": {
        "id": "giMW4peYZG9E"
      }
    },
    {
      "cell_type": "code",
      "source": [
        "color = [\"red\", \"big\", \"tasty\"]\n",
        "fruits = [\"apple\", \"banana\", \"cherry\"]"
      ],
      "metadata": {
        "id": "-4dS-Af5Z4jV"
      },
      "execution_count": 1,
      "outputs": []
    },
    {
      "cell_type": "code",
      "source": [
        "for c in color:\n",
        "    for f in fruits:\n",
        "        print(c, f)"
      ],
      "metadata": {
        "id": "oebV-jtPaRF0",
        "colab": {
          "base_uri": "https://localhost:8080/"
        },
        "outputId": "39c5bec8-9014-4e71-fa14-037b031cf5dc"
      },
      "execution_count": 2,
      "outputs": [
        {
          "output_type": "stream",
          "name": "stdout",
          "text": [
            "red apple\n",
            "red banana\n",
            "red cherry\n",
            "big apple\n",
            "big banana\n",
            "big cherry\n",
            "tasty apple\n",
            "tasty banana\n",
            "tasty cherry\n"
          ]
        }
      ]
    },
    {
      "cell_type": "markdown",
      "source": [
        "### Assignment 2: Application program 2-dim arrays (list) of numbers"
      ],
      "metadata": {
        "id": "o7-uHTsofar1"
      }
    },
    {
      "cell_type": "markdown",
      "source": [
        "Lists with sub-lists are actually the Python version of 2-dim arrays.\n",
        "Declare a list with four sub-lists:\n",
        "\n",
        "```\n",
        "T = [[11, 12, 5, 2], [15, 6, 10], [10, 8, 12, 5], [12,15,8,6]]\n",
        "print(T)\n",
        "```\n",
        "\n",
        "Try:\n",
        "\n",
        "```\n",
        "T[1][2] = 99\n",
        "```\n",
        "\n",
        "Which element is changed to the value 99? Print out and see if you were right?\n",
        "Add a nested for-loop so for each sub-list, slist, in T print each element, elem, in sub-list.\n"
      ],
      "metadata": {
        "id": "7fpeFWPIdWw8"
      }
    },
    {
      "cell_type": "code",
      "source": [
        "T = [[11, 12, 5, 2], [15, 6, 10], [10, 8, 12, 5], [12,15,8,6]]\n",
        "print(T)"
      ],
      "metadata": {
        "id": "WBUUlq-kd-zd",
        "colab": {
          "base_uri": "https://localhost:8080/"
        },
        "outputId": "f75f6241-fc14-40c6-9a08-1169a343c50e"
      },
      "execution_count": 1,
      "outputs": [
        {
          "output_type": "stream",
          "name": "stdout",
          "text": [
            "[[11, 12, 5, 2], [15, 6, 10], [10, 8, 12, 5], [12, 15, 8, 6]]\n"
          ]
        }
      ]
    },
    {
      "cell_type": "code",
      "source": [
        "T[1][2] = 99\n",
        "T[1][1] = 44\n",
        "T[0][0] = 45\n",
        "T[0][1] = 46\n",
        "T[0][2] = 47\n",
        "T[0][3] = 48\n",
        "print(T)"
      ],
      "metadata": {
        "id": "qN48-CJMeiw9",
        "colab": {
          "base_uri": "https://localhost:8080/"
        },
        "outputId": "6ac9f851-f3e4-461c-ce88-e44e12a299ee"
      },
      "execution_count": 2,
      "outputs": [
        {
          "output_type": "stream",
          "name": "stdout",
          "text": [
            "[[45, 46, 47, 48], [15, 44, 99], [10, 8, 12, 5], [12, 15, 8, 6]]\n"
          ]
        }
      ]
    },
    {
      "cell_type": "markdown",
      "source": [
        "### Assignment 3: Random numbers"
      ],
      "metadata": {
        "id": "bBFFDuLKhCdN"
      }
    },
    {
      "cell_type": "markdown",
      "source": [
        "You are to do a program, which can initialize an integer list holding 10 elements of random numbers in the interval `[0,100]` using the module random.\n",
        "Your program must resemble the following template:\n",
        "\n",
        "```\n",
        "import random\n",
        "\n",
        "data = [] # create an empty list\n",
        "while len(data) < 10:\n",
        " randNo= random.randint(0,100)\n",
        " data.append(randNo)\n",
        "print(data)\n",
        "```\n",
        "\n",
        "\n"
      ],
      "metadata": {
        "id": "7BxH3U06hV01"
      }
    },
    {
      "cell_type": "code",
      "source": [
        "import random\n",
        "\n",
        "data = []\n",
        "while len(data) < 10:\n",
        "  randomNumber = random.randint(0,100)\n",
        "  data.append(randomNumber)\n",
        "print(data)"
      ],
      "metadata": {
        "id": "HZRoVtiQh9hF",
        "colab": {
          "base_uri": "https://localhost:8080/"
        },
        "outputId": "b26c5e26-d1cd-4f71-b34e-48382e8b7a92"
      },
      "execution_count": 22,
      "outputs": [
        {
          "output_type": "stream",
          "name": "stdout",
          "text": [
            "[15, 66, 89, 77, 52, 57, 89, 50, 27, 95]\n"
          ]
        }
      ]
    },
    {
      "cell_type": "markdown",
      "source": [],
      "metadata": {
        "id": "swYGzcLbxO2u"
      }
    },
    {
      "cell_type": "markdown",
      "source": [
        "Assignment 4: Random function"
      ],
      "metadata": {
        "id": "7hk7ejFgiIEV"
      }
    },
    {
      "cell_type": "markdown",
      "source": [
        "Create your own random method, which returns a list of random numbers.\n",
        "\n",
        "```\n",
        "def rand_func():\n",
        ". . . . . . .\n",
        "```\n",
        "\n"
      ],
      "metadata": {
        "id": "j1ZlqtJ_iUb8"
      }
    },
    {
      "cell_type": "code",
      "source": [
        "import random\n",
        "\n",
        "def generate_unique_random_list():\n",
        "    data = []\n",
        "    while len(data) < 10:\n",
        "        random_number = random.randint(0, 100)\n",
        "        if random_number not in data:\n",
        "            data.append(random_number)\n",
        "    return data\n",
        "\n",
        "\n"
      ],
      "metadata": {
        "id": "I6iCmFqqjUL9"
      },
      "execution_count": 2,
      "outputs": []
    },
    {
      "cell_type": "code",
      "source": [
        "print(generate_unique_random_list())\n"
      ],
      "metadata": {
        "id": "20M5nFniijqN",
        "colab": {
          "base_uri": "https://localhost:8080/"
        },
        "outputId": "715948f8-2ce9-476c-e5f6-00d4a3511859"
      },
      "execution_count": 3,
      "outputs": [
        {
          "output_type": "stream",
          "name": "stdout",
          "text": [
            "[57, 69, 22, 93, 13, 36, 26, 34, 29, 2]\n"
          ]
        }
      ]
    },
    {
      "cell_type": "markdown",
      "source": [
        "### Extra assignment: For the fast ones only\n"
      ],
      "metadata": {
        "id": "xvM-k11RkKSk"
      }
    },
    {
      "cell_type": "markdown",
      "source": [
        "Look at your `rand_func` method from the assignment.\n",
        "Introduce parameters defining the size of the list and the maximum integer number to be generated?"
      ],
      "metadata": {
        "id": "itwBoxbhkklV"
      }
    },
    {
      "cell_type": "code",
      "source": [],
      "metadata": {
        "id": "O3b3H51Akt0k"
      },
      "execution_count": null,
      "outputs": []
    },
    {
      "cell_type": "code",
      "source": [],
      "metadata": {
        "id": "chTKcGoallmV"
      },
      "execution_count": null,
      "outputs": []
    },
    {
      "cell_type": "markdown",
      "source": [
        "Assignment X: Extra reward only for fast ones!"
      ],
      "metadata": {
        "id": "d2a1SkhEmM1W"
      }
    },
    {
      "cell_type": "markdown",
      "source": [
        "Here we want to calculate some numbers called Fibonacci numbers and save them in a list. The numbers are defined as:\n",
        "\n",
        "```\n",
        "i y[i]\n",
        "0 0\n",
        "1 1\n",
        "2 1 = 1+0\n",
        "3 2 = 1+1\n",
        "4 3 = 1+2\n",
        "5 5 = 3+2\n",
        "6 8 = 5+3\n",
        "7 13= 8+5\n",
        "```\n",
        "\n",
        "As you can see a Fibonacci number from a certain point is the sum of the two previous numbers. Do a loop so the respective elements in y is assigned the sum of the two previous elements.!!"
      ],
      "metadata": {
        "id": "FRZlxs3LmcrW"
      }
    },
    {
      "cell_type": "code",
      "source": [],
      "metadata": {
        "id": "1FgOt708nDp-"
      },
      "execution_count": null,
      "outputs": []
    },
    {
      "cell_type": "code",
      "source": [],
      "metadata": {
        "id": "ti8Qgt2Xoheu"
      },
      "execution_count": null,
      "outputs": []
    }
  ]
}