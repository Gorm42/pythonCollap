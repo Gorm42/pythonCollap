{
  "nbformat": 4,
  "nbformat_minor": 0,
  "metadata": {
    "colab": {
      "provenance": [],
      "include_colab_link": true
    },
    "kernelspec": {
      "name": "python3",
      "display_name": "Python 3"
    },
    "language_info": {
      "name": "python"
    }
  },
  "cells": [
    {
      "cell_type": "markdown",
      "metadata": {
        "id": "view-in-github",
        "colab_type": "text"
      },
      "source": [
        "<a href=\"https://colab.research.google.com/github/Gorm42/pythonCollap/blob/main/Python_Basic_1.ipynb\" target=\"_parent\"><img src=\"https://colab.research.google.com/assets/colab-badge.svg\" alt=\"Open In Colab\"/></a>"
      ]
    },
    {
      "cell_type": "markdown",
      "source": [
        "# Python Basic No. 1"
      ],
      "metadata": {
        "id": "yH1uLJ2cLQOq"
      }
    },
    {
      "cell_type": "markdown",
      "source": [
        "This is a crash course in basic Python. The goal is you will be able to read and understand the code used in the course. Together we are going to do a Python program with some simple code. In order to keep a good speed no GUI no structure of program. Just coding:\n",
        "*   Simple declarations\n",
        "*   Initialising & changing values\n",
        "*   Printing\n",
        "*   Maximum, minimum, sum and average of the elements in an integer array\n",
        "\n",
        "\n",
        "Useful links:\n",
        "\n",
        "https://www.w3schools.com/Python/default.asp\n",
        "\n",
        "https://docs.python.org/3/library/random.html\n",
        "\n",
        "https://www.tutorialspoint.com/python_data_structure/python_2darray.htm\n",
        "\n",
        "https://stackoverflow.com/questions/6142689/initialising-an-array-of-fixed-size-in-python"
      ],
      "metadata": {
        "id": "JyhUATVmJdy4"
      }
    },
    {
      "cell_type": "markdown",
      "source": [
        "### Assignment 1: Application program, declaration"
      ],
      "metadata": {
        "id": "GA3AwRECkMky"
      }
    },
    {
      "cell_type": "markdown",
      "source": [
        "Enter the following piece of code in the cell below:\n",
        "\n",
        "```\n",
        "int x = 1\n",
        "y = 3\n",
        "z = 5\n",
        "sum = x+y+z\n",
        "Print(sum)\n",
        "```\n",
        "\n",
        "Run the cell by clicking the arrow.\n",
        "\n",
        "Note: Fix case error and type declaration error.\n",
        "\n",
        "What did you learn?\n"
      ],
      "metadata": {
        "id": "7oppwZv0j7qS"
      }
    },
    {
      "cell_type": "code",
      "execution_count": 3,
      "metadata": {
        "id": "G2rJDqH_grOg",
        "outputId": "7f7a7016-7bb8-4b09-c5e5-7255e984396f",
        "colab": {
          "base_uri": "https://localhost:8080/"
        }
      },
      "outputs": [
        {
          "output_type": "stream",
          "name": "stdout",
          "text": [
            "9\n"
          ]
        }
      ],
      "source": [
        "x = 1\n",
        "y = 3\n",
        "z = 5\n",
        "sum = x+y+z\n",
        "print(sum)"
      ]
    },
    {
      "cell_type": "markdown",
      "source": [
        "Now print out the result with a text by calling `print`:\n",
        "\n",
        "```\n",
        "print(\"Sum is: \" + sum)\n",
        "print(\"Sum is: \" + str(sum) + \" DKK\")\n",
        "#Finally use the f-strings\n",
        "print(f\"Sum is: + {sum} + DKK\")\n",
        "```\n",
        "\n",
        "Unfortunately there are errors. Correct the errors.\n"
      ],
      "metadata": {
        "id": "cc-w9JWOm8qR"
      }
    },
    {
      "cell_type": "code",
      "source": [
        "print(f\"Sum is: {sum}\")\n",
        "print(f\"Sum is: {sum} DKK\")\n",
        "print(f\"Sum is: {sum} DKK\")"
      ],
      "metadata": {
        "id": "KdO2DOVjneeg",
        "outputId": "6697d156-af0d-4e89-ac55-3ee4331465be",
        "colab": {
          "base_uri": "https://localhost:8080/"
        }
      },
      "execution_count": 11,
      "outputs": [
        {
          "output_type": "stream",
          "name": "stdout",
          "text": [
            "Sum is: 9\n",
            "Sum is: str9 DKK\n",
            "Sum is: 9 DKK\n"
          ]
        }
      ]
    },
    {
      "cell_type": "markdown",
      "source": [
        "### Assignment 2: Application program, loops"
      ],
      "metadata": {
        "id": "u4jM536upAvK"
      }
    },
    {
      "cell_type": "markdown",
      "source": [
        "For-loops in Python are actually for-each loops.\n",
        "Try to print out a list of squares:\n",
        "\n",
        "```\n",
        "for i in range(1, 10):\n",
        "    print(i,i*i)\n",
        "print()\n",
        "```\n",
        "\n",
        "Indent both `print()` statements. What happens? Explain.\n",
        "\n",
        "Undo the last indentation.\n",
        "\n",
        "Change the `print(i,i*i)` statement to `print(i,i*i, end = \" \")`\n",
        "\n"
      ],
      "metadata": {
        "id": "zWLtBjsgpD7x"
      }
    },
    {
      "cell_type": "code",
      "source": [
        "for i in range(1, 10):\n",
        "    print(i,i*i, end = \" \")\n",
        "    print()"
      ],
      "metadata": {
        "id": "o5hugu79pZh6",
        "outputId": "672c2008-4ea7-478c-f425-8b6e5c097d5c",
        "colab": {
          "base_uri": "https://localhost:8080/"
        }
      },
      "execution_count": 13,
      "outputs": [
        {
          "output_type": "stream",
          "name": "stdout",
          "text": [
            "1 1 \n",
            "2 4 \n",
            "3 9 \n",
            "4 16 \n",
            "5 25 \n",
            "6 36 \n",
            "7 49 \n",
            "8 64 \n",
            "9 81 \n"
          ]
        }
      ]
    },
    {
      "cell_type": "markdown",
      "source": [
        "### Assignment 3: Application program, nested for loops"
      ],
      "metadata": {
        "id": "Gleqy1tDrxEO"
      }
    },
    {
      "cell_type": "markdown",
      "source": [
        "A multiplication table (10*10) looks like this:\n",
        "\n",
        "```\n",
        " 1  2  3  4  5  6   7  8  9 10\n",
        " 2  4  6  8 10 12  14 16 18 20\n",
        " 3  6  9 12  .  .\n",
        " 4  8 12  .  .  .\n",
        " 5 10  .  .  .  .\n",
        " 6 12\n",
        " 7 14\n",
        " 8 16\n",
        " 9 18\n",
        "10 20\n",
        "```\n",
        "Now you have to print out the numbers in the table using nested loops; i.e. a for-loop inside another for-loop. The formatting (a real table format) does not matter; it is the loops and content we focus on.\n",
        "Tip: `print(i*j, end = “ “)`\n"
      ],
      "metadata": {
        "id": "S0SyyKSXtFRT"
      }
    },
    {
      "cell_type": "code",
      "source": [
        "for i in range(1, 11):\n",
        "    for j in range(1, 11):\n",
        "        print(f\"{i * j:4}\", end=\" \")\n",
        "    print()\n"
      ],
      "metadata": {
        "id": "40VIq7SjuyIM",
        "outputId": "68931ca7-007e-43cf-c097-df1caa8c58b4",
        "colab": {
          "base_uri": "https://localhost:8080/"
        }
      },
      "execution_count": 37,
      "outputs": [
        {
          "output_type": "stream",
          "name": "stdout",
          "text": [
            "   1    2    3    4    5    6    7    8    9   10 \n",
            "   2    4    6    8   10   12   14   16   18   20 \n",
            "   3    6    9   12   15   18   21   24   27   30 \n",
            "   4    8   12   16   20   24   28   32   36   40 \n",
            "   5   10   15   20   25   30   35   40   45   50 \n",
            "   6   12   18   24   30   36   42   48   54   60 \n",
            "   7   14   21   28   35   42   49   56   63   70 \n",
            "   8   16   24   32   40   48   56   64   72   80 \n",
            "   9   18   27   36   45   54   63   72   81   90 \n",
            "  10   20   30   40   50   60   70   80   90  100 \n"
          ]
        }
      ]
    },
    {
      "cell_type": "markdown",
      "source": [
        "### Assignment 4: Application program, while-loops"
      ],
      "metadata": {
        "id": "8LszHARf1R8z"
      }
    },
    {
      "cell_type": "markdown",
      "source": [
        "Try to print out a list of squares using a while-loop:\n",
        "\n",
        "```\n",
        "i = 1\n",
        "while (i<=10):\n",
        "    ........\n",
        "```\n",
        "\n",
        "Write the rest of the code lines yourself in the cell below:"
      ],
      "metadata": {
        "id": "sSTzLmBV1fr9"
      }
    },
    {
      "cell_type": "code",
      "source": [
        "i = 1\n",
        "while (i <= 10):\n",
        "  i = i+1\n",
        "  print(i, i*i)"
      ],
      "metadata": {
        "id": "epvbkXT01z1z",
        "outputId": "330ede67-328d-4fde-aa3a-53a882051496",
        "colab": {
          "base_uri": "https://localhost:8080/"
        }
      },
      "execution_count": 29,
      "outputs": [
        {
          "output_type": "stream",
          "name": "stdout",
          "text": [
            "2 4\n",
            "3 9\n",
            "4 16\n",
            "5 25\n",
            "6 36\n",
            "7 49\n",
            "8 64\n",
            "9 81\n",
            "10 100\n",
            "11 121\n"
          ]
        }
      ]
    },
    {
      "cell_type": "markdown",
      "source": [
        "### Assignment 5: Application program, if-else"
      ],
      "metadata": {
        "id": "jcL-sfO22N6k"
      }
    },
    {
      "cell_type": "markdown",
      "source": [
        "Try to print out the maximum of two numbers: `x` and `y`\n",
        "\n",
        "```\n",
        "x = 7\n",
        "y = 23\n",
        "if (x > y):\n",
        "    print(\"x: \"+ str(x))\n",
        "else:\n",
        "    print(\"y: \"+ str(y))\n",
        "```\n",
        "\n",
        "Run in the cell below"
      ],
      "metadata": {
        "id": "x0fiUy3I2VHl"
      }
    },
    {
      "cell_type": "code",
      "source": [
        "x = 7\n",
        "y = 23\n",
        "if (x > y):\n",
        "    print(\"x: \"+ str(x))\n",
        "else:\n",
        "    print(\"y: \"+ str(y))\n",
        "\n"
      ],
      "metadata": {
        "id": "NfdUi5s53Sh1",
        "outputId": "31c04deb-9372-4df4-cf9d-9d8bf5eea07c",
        "colab": {
          "base_uri": "https://localhost:8080/"
        }
      },
      "execution_count": 30,
      "outputs": [
        {
          "output_type": "stream",
          "name": "stdout",
          "text": [
            "y: 23\n"
          ]
        }
      ]
    },
    {
      "cell_type": "markdown",
      "source": [
        "### Assignment 6: Method maximum of two numbers"
      ],
      "metadata": {
        "id": "K0OpEGLU3whu"
      }
    },
    {
      "cell_type": "markdown",
      "source": [
        "Extend with a new method `findMax(x,y)`, which returns the maximum of the parameters\n",
        "\n",
        "```\n",
        "def findMax(x,y):\n",
        "    if (x > y):\n",
        "        . . . . . .\n",
        "```\n",
        "Call the method and print out the maximum value.\n",
        "Tip: Be inspired by assignment 5 but remember return !"
      ],
      "metadata": {
        "id": "hU9Rc5JP326U"
      }
    },
    {
      "cell_type": "code",
      "source": [
        "def findMax(x,y):\n",
        "    if (x > y):\n",
        "      print(\"x:\" + str(x))\n",
        "    else:\n",
        "      print(\"y: \"+ str(y))\n",
        ""
      ],
      "metadata": {
        "id": "pT_CY9co4ln3"
      },
      "execution_count": 32,
      "outputs": []
    },
    {
      "cell_type": "code",
      "source": [
        "findMax(x, y)"
      ],
      "metadata": {
        "id": "TVjiJ9ZX5ORt",
        "outputId": "68e06bc9-5221-4a8e-a8fa-0512e03650fc",
        "colab": {
          "base_uri": "https://localhost:8080/"
        }
      },
      "execution_count": 33,
      "outputs": [
        {
          "output_type": "stream",
          "name": "stdout",
          "text": [
            "y: 23\n"
          ]
        }
      ]
    },
    {
      "cell_type": "markdown",
      "source": [
        "Assignment 7: Application program 1-dim array (list) of numbers"
      ],
      "metadata": {
        "id": "nmg7gcR95rx1"
      }
    },
    {
      "cell_type": "markdown",
      "source": [
        "Lists are actually the Python version of 1-dim arrays.\n",
        "Declare a list with the primes:\n",
        "\n",
        "```\n",
        "data = [1,2,3,5,7,11,13,17,19,23]\n",
        "print(data)\n",
        "for item in data:\n",
        "    print(item, end = \" \")\n",
        "```\n",
        "\n",
        "Run in the cell below. Explain the output."
      ],
      "metadata": {
        "id": "02iG39DQ50ao"
      }
    },
    {
      "cell_type": "code",
      "source": [
        "data = [1,2,3,5,7,11,13,17,19,23]\n",
        "print(data)\n",
        "for item in data:\n",
        "    print(item, end = \" \")\n"
      ],
      "metadata": {
        "id": "8w29argF7DtG",
        "outputId": "d894262b-b096-4722-a841-42442e197823",
        "colab": {
          "base_uri": "https://localhost:8080/"
        }
      },
      "execution_count": 34,
      "outputs": [
        {
          "output_type": "stream",
          "name": "stdout",
          "text": [
            "[1, 2, 3, 5, 7, 11, 13, 17, 19, 23]\n",
            "1 2 3 5 7 11 13 17 19 23 "
          ]
        }
      ]
    },
    {
      "cell_type": "markdown",
      "source": [
        "Add some more lines:\n",
        "\n",
        "```\n",
        "print(data[3])\n",
        "data[0] = 17\n",
        "data.append(37)\n",
        "print(data)\n",
        "```\n",
        "Run in the cell below. What do you expect to see?"
      ],
      "metadata": {
        "id": "-Oj0FY217fU8"
      }
    },
    {
      "cell_type": "markdown",
      "source": [],
      "metadata": {
        "id": "XzOLzttD7AIs"
      }
    },
    {
      "cell_type": "code",
      "source": [
        "print(data[3])\n",
        "data[0] = 17\n",
        "data.append(37)\n",
        "print(data)\n"
      ],
      "metadata": {
        "id": "nGVlHK8B77Pt",
        "outputId": "1424c15b-1f4b-48c3-ab8b-f00779982d5a",
        "colab": {
          "base_uri": "https://localhost:8080/"
        }
      },
      "execution_count": 35,
      "outputs": [
        {
          "output_type": "stream",
          "name": "stdout",
          "text": [
            "5\n",
            "[17, 2, 3, 5, 7, 11, 13, 17, 19, 23, 37]\n"
          ]
        }
      ]
    },
    {
      "cell_type": "markdown",
      "source": [
        "Add more lines:\n",
        "\n",
        "```\n",
        "data.insert(4,99)\n",
        "print(data)\n",
        "```\n",
        "\n",
        "Run it in the cell below. What do you expect to see now?\n",
        "What did you learn? Difference between append and insert."
      ],
      "metadata": {
        "id": "mKMj-whU8JUb"
      }
    },
    {
      "cell_type": "code",
      "source": [
        "data.insert(4,99)\n",
        "print(data)\n"
      ],
      "metadata": {
        "id": "IAf_FFGN8hjU",
        "outputId": "96f7af82-b89a-4c52-97da-07e6e2cf89fb",
        "colab": {
          "base_uri": "https://localhost:8080/"
        }
      },
      "execution_count": 36,
      "outputs": [
        {
          "output_type": "stream",
          "name": "stdout",
          "text": [
            "[17, 2, 3, 5, 99, 7, 11, 13, 17, 19, 23, 37]\n"
          ]
        }
      ]
    },
    {
      "cell_type": "markdown",
      "source": [
        "### Assignment 8: Method maximum"
      ],
      "metadata": {
        "id": "E2eM0QqE9Jvv"
      }
    },
    {
      "cell_type": "markdown",
      "source": [
        "Extend with a new method find_max(data), which returns the maximum of the numbers in the list data.\n",
        "\n",
        "\n",
        "```\n",
        "def find_max(data):\n",
        "    my_max_ = max(data)\n",
        "    return my_max\n",
        "```\n",
        "\n",
        "Call find_max with data as parameter:\n",
        "\n",
        "```\n",
        "max_num = find_max(data)\n",
        "```\n",
        "\n",
        "and print out the maximum number."
      ],
      "metadata": {
        "id": "lipw4y6s9aDb"
      }
    },
    {
      "cell_type": "code",
      "source": [
        "data = [1,2,3,5,7,11,13,17,19,23,71]\n",
        "def find_max(data):\n",
        "    my_max = max(data)\n",
        "    return my_max"
      ],
      "metadata": {
        "id": "YM89xi96-T1t"
      },
      "execution_count": 53,
      "outputs": []
    },
    {
      "cell_type": "code",
      "source": [
        "max_num = find_max(data)\n",
        "print(max_num)"
      ],
      "metadata": {
        "id": "Y4Qj4fRA-HY0",
        "outputId": "42eb999b-0bd1-4312-85ea-886c1baf38f8",
        "colab": {
          "base_uri": "https://localhost:8080/"
        }
      },
      "execution_count": 54,
      "outputs": [
        {
          "output_type": "stream",
          "name": "stdout",
          "text": [
            "71\n"
          ]
        }
      ]
    },
    {
      "cell_type": "markdown",
      "source": [
        "Assignment 9: Method minimum"
      ],
      "metadata": {
        "id": "qYDzb0fo_vst"
      }
    },
    {
      "cell_type": "markdown",
      "source": [
        "Extend with a new method `find_min(data)`, which returns the minimum value of the numbers in the parameter `data`. Remember to introduce extra printing-sentences for this."
      ],
      "metadata": {
        "id": "b3nSuU6U-AnF"
      }
    },
    {
      "cell_type": "code",
      "source": [
        "data = [1,2,3,5,7,11,13,17,19,23,71]\n",
        "def find_min(data):\n",
        "    my_min = min(data)\n",
        "    return my_min"
      ],
      "metadata": {
        "id": "WVaG6D8xAMVd"
      },
      "execution_count": 61,
      "outputs": []
    },
    {
      "cell_type": "code",
      "source": [
        "minimum_number = find_min(data)\n",
        "print(minimum_number)"
      ],
      "metadata": {
        "id": "_iaaVEpNAgBd",
        "outputId": "efe56c0b-ed69-47a0-bfa5-96bbcaa3e190",
        "colab": {
          "base_uri": "https://localhost:8080/"
        }
      },
      "execution_count": 62,
      "outputs": [
        {
          "output_type": "stream",
          "name": "stdout",
          "text": [
            "1\n"
          ]
        }
      ]
    },
    {
      "cell_type": "markdown",
      "source": [
        "### Assignment 10: Method Sum"
      ],
      "metadata": {
        "id": "U84_5tF_A8h_"
      }
    },
    {
      "cell_type": "markdown",
      "source": [
        "Extend with a new method `find_sum(data)`, which returns the sum value of the numbers in the array parameter `data`."
      ],
      "metadata": {
        "id": "aWT7usjIBDn1"
      }
    },
    {
      "cell_type": "code",
      "source": [
        "data = [2,2,3,5,7,11,13,17,19,23,71]\n",
        "\n",
        "def find_maximum(data):\n",
        "    my_maximum = max(data)\n",
        "    return my_maximum\n",
        "\n",
        "def find_mininum(data):\n",
        "    my_minimum = min(data)\n",
        "    return minimum\n",
        "\n",
        "def find_sum(data):\n",
        "      total = 0\n",
        "      for item in data:\n",
        "          total += item\n",
        "      return total"
      ],
      "metadata": {
        "id": "KjS1soZDBo5G"
      },
      "execution_count": 70,
      "outputs": []
    },
    {
      "cell_type": "code",
      "source": [
        "printTotal = find_sum(data)\n",
        "print(printTotal)"
      ],
      "metadata": {
        "id": "2w85adABCfL9",
        "outputId": "6d5b85f3-09d4-46ff-fefe-46e4d2225e1f",
        "colab": {
          "base_uri": "https://localhost:8080/"
        }
      },
      "execution_count": 71,
      "outputs": [
        {
          "output_type": "stream",
          "name": "stdout",
          "text": [
            "173\n"
          ]
        }
      ]
    },
    {
      "cell_type": "markdown",
      "source": [
        "### Assignment 11: Average"
      ],
      "metadata": {
        "id": "DopL4h0xDC0M"
      }
    },
    {
      "cell_type": "markdown",
      "source": [
        "Extend with a new method `average(data)`, which returns the average of all numbers in the list. Utilize `find_sum` method from previous assignment."
      ],
      "metadata": {
        "id": "81nYWP4lDLgm"
      }
    },
    {
      "cell_type": "code",
      "source": [
        "def find_sum(data):\n",
        "      total = 0\n",
        "      for item in data:\n",
        "          total += item\n",
        "      print(total)\n",
        "      return total / len(data)\n",
        "\n",
        ""
      ],
      "metadata": {
        "id": "r1pty2oBDaD9"
      },
      "execution_count": 78,
      "outputs": []
    },
    {
      "cell_type": "code",
      "source": [
        "printAverage = find_sum(data)\n",
        "print(printAverage)"
      ],
      "metadata": {
        "id": "Pp0kr7yRDxM2",
        "outputId": "bd44a591-c5ca-4451-e354-4e06c417485b",
        "colab": {
          "base_uri": "https://localhost:8080/"
        }
      },
      "execution_count": 79,
      "outputs": [
        {
          "output_type": "stream",
          "name": "stdout",
          "text": [
            "173\n",
            "15.727272727272727\n"
          ]
        }
      ]
    },
    {
      "cell_type": "markdown",
      "source": [
        "Assignment X: The 5 highest numbers"
      ],
      "metadata": {
        "id": "9H6HeO1VEMpQ"
      }
    },
    {
      "cell_type": "markdown",
      "source": [
        "How to find the 5 highest numbers in a list. How to return this from a method.\n",
        "Or maybe you can make it flexible so it can be any highest numbers like 6 or 11 etc."
      ],
      "metadata": {
        "id": "EudukSrbEOnG"
      }
    },
    {
      "cell_type": "code",
      "source": [
        "\n"
      ],
      "metadata": {
        "id": "uw7LiKJuEYkQ"
      },
      "execution_count": null,
      "outputs": []
    }
  ]
}